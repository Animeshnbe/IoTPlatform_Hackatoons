{
 "cells": [
  {
   "cell_type": "code",
   "execution_count": null,
   "metadata": {},
   "outputs": [],
   "source": [
    "import random\n",
    "import json\n",
    "from time import sleep\n",
    "from kafka import KafkaProducer\n",
    "\n",
    "bootstrap_servers = ['localhost:9092']  # replace with your broker address\n",
    "topic_name = 'time_series_stream'\n",
    "\n",
    "producer = KafkaProducer(\n",
    "    bootstrap_servers=bootstrap_servers,\n",
    "    value_serializer=lambda m: json.dumps(m).encode('ascii'))\n",
    "\n",
    "while True:\n",
    "    data = {\n",
    "        'timestamp': int(time.time()),\n",
    "        'value': random.uniform(0, 100)\n",
    "    }\n",
    "    producer.send(topic_name, value=data)\n",
    "    sleep(1)  # wait for 1 second before sending the next data point\n"
   ]
  }
 ],
 "metadata": {
  "language_info": {
   "name": "python"
  },
  "orig_nbformat": 4
 },
 "nbformat": 4,
 "nbformat_minor": 2
}
