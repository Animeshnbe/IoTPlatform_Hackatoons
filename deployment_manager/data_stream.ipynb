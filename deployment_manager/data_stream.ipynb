{
 "cells": [
  {
   "cell_type": "code",
   "execution_count": 8,
   "metadata": {},
   "outputs": [],
   "source": [
    "import numpy as np\n",
    "import pandas as pd\n",
    "\n",
    "# RANDOM TIME DATA\n",
    "date_rng = pd.date_range(start='1/8/2021', end='1/10/2021', freq='s')\n",
    "df = pd.DataFrame(date_rng, columns=['timestamp'])\n",
    "\n",
    "np.random.seed(34)\n",
    "df['value'] = np.random.randint(50, 250, size=(len(date_rng)))\n",
    "df = df.sample(frac=0.5, random_state=42).sort_values(by=['timestamp'])\n",
    "df.to_csv('pressure.csv', index=False)"
   ]
  },
  {
   "cell_type": "code",
   "execution_count": 11,
   "metadata": {},
   "outputs": [
    {
     "data": {
      "text/plain": [
       "<_csv.reader at 0x1a15d87adc0>"
      ]
     },
     "execution_count": 11,
     "metadata": {},
     "output_type": "execute_result"
    }
   ],
   "source": [
    "import csv\n",
    "rdr = csv.reader(open(\"thermometer.csv\"))\n",
    "rdr"
   ]
  },
  {
   "cell_type": "code",
   "execution_count": 5,
   "metadata": {},
   "outputs": [
    {
     "ename": "KeyboardInterrupt",
     "evalue": "",
     "output_type": "error",
     "traceback": [
      "\u001b[1;31m---------------------------------------------------------------------------\u001b[0m",
      "\u001b[1;31mKeyboardInterrupt\u001b[0m                         Traceback (most recent call last)",
      "Cell \u001b[1;32mIn[5], line 19\u001b[0m\n\u001b[0;32m     14\u001b[0m data \u001b[39m=\u001b[39m {\n\u001b[0;32m     15\u001b[0m     \u001b[39m'\u001b[39m\u001b[39mtimestamp\u001b[39m\u001b[39m'\u001b[39m: \u001b[39mint\u001b[39m(time()),\n\u001b[0;32m     16\u001b[0m     \u001b[39m'\u001b[39m\u001b[39mvalue\u001b[39m\u001b[39m'\u001b[39m: random\u001b[39m.\u001b[39muniform(\u001b[39m0\u001b[39m, \u001b[39m100\u001b[39m)\n\u001b[0;32m     17\u001b[0m }\n\u001b[0;32m     18\u001b[0m producer\u001b[39m.\u001b[39msend(topic_name, value\u001b[39m=\u001b[39mdata)\n\u001b[1;32m---> 19\u001b[0m sleep(\u001b[39m1\u001b[39;49m)  \u001b[39m# wait for 1 second before sending the next data point\u001b[39;00m\n\u001b[0;32m     20\u001b[0m \u001b[39m# break\u001b[39;00m\n",
      "\u001b[1;31mKeyboardInterrupt\u001b[0m: "
     ]
    }
   ],
   "source": [
    "import random\n",
    "import json\n",
    "from time import sleep,time\n",
    "from kafka import KafkaProducer\n",
    "\n",
    "bootstrap_servers = ['localhost:19092']  # replace with your broker address\n",
    "topic_name = 'ac_service'\n",
    "\n",
    "producer = KafkaProducer(\n",
    "    bootstrap_servers=bootstrap_servers,\n",
    "    value_serializer=lambda m: json.dumps(m).encode('ascii'))\n",
    "\n",
    "while True:\n",
    "    data = {\n",
    "        'timestamp': int(time()),\n",
    "        'value': random.uniform(0, 100)\n",
    "    }\n",
    "    producer.send(topic_name, value=data)\n",
    "    sleep(3)  # wait for 1 second before sending the next data point\n",
    "    # break"
   ]
  },
  {
   "cell_type": "code",
   "execution_count": null,
   "metadata": {},
   "outputs": [],
   "source": [
    "import argparse\n",
    "import json\n",
    "import sys\n",
    "import time\n",
    "import socket\n",
    "from kafka import KafkaConsumer, errors\n",
    "\n",
    "\n",
    "def msg_process(msg):\n",
    "    # Print the current time and the message.\n",
    "    time_start = time.strftime(\"%Y-%m-%d %H:%M:%S\")\n",
    "    val = msg.value()\n",
    "    dval = json.loads(val)\n",
    "    print(time_start, dval)\n",
    "\n",
    "\n",
    "parser = argparse.ArgumentParser(description=__doc__)\n",
    "parser.add_argument('topic', type=str, help='Name of the Kafka topic to stream.')\n",
    "\n",
    "args = parser.parse_args()\n",
    "\n",
    "conf = {'bootstrap.servers': 'localhost:9092',\n",
    "            'default.topic.config': {'auto.offset.reset': 'smallest'},\n",
    "            'group.id': socket.gethostname()}\n",
    "\n",
    "consumer = KafkaConsumer('dummy_topic',bootstrap_servers='localhost:9092',\n",
    "                        value_deserializer=lambda m:json.loads(m.decode('ascii')))\n",
    "\n",
    "try:\n",
    "    while True:\n",
    "        msg = consumer.poll(1)\n",
    "        if msg is None:\n",
    "            continue\n",
    "\n",
    "        if msg.error():\n",
    "            if msg.error().code() == KafkaError._PARTITION_EOF:\n",
    "                # End of partition event\n",
    "                sys.stderr.write('%% %s [%d] reached end at offset %d\\n' %\n",
    "                                    (msg.topic(), msg.partition(), msg.offset()))\n",
    "            elif msg.error().code() == KafkaError.UNKNOWN_TOPIC_OR_PART:\n",
    "                sys.stderr.write('Topic unknown, creating %s topic\\n' %\n",
    "                                    (args.topic))\n",
    "            elif msg.error():\n",
    "                raise KafkaException(msg.error())\n",
    "        else:\n",
    "            msg_process(msg)\n",
    "\n",
    "except KeyboardInterrupt:\n",
    "    pass\n",
    "\n",
    "finally:\n",
    "    # Close down consumer to commit final offsets.\n",
    "    consumer.close()"
   ]
  }
 ],
 "metadata": {
  "kernelspec": {
   "display_name": "Python 3",
   "language": "python",
   "name": "python3"
  },
  "language_info": {
   "codemirror_mode": {
    "name": "ipython",
    "version": 3
   },
   "file_extension": ".py",
   "mimetype": "text/x-python",
   "name": "python",
   "nbconvert_exporter": "python",
   "pygments_lexer": "ipython3",
   "version": "3.9.16"
  },
  "orig_nbformat": 4
 },
 "nbformat": 4,
 "nbformat_minor": 2
}
