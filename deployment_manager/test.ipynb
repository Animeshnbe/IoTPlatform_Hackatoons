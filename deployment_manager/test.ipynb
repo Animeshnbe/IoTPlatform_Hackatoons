{
 "cells": [
  {
   "cell_type": "code",
   "execution_count": 22,
   "metadata": {},
   "outputs": [],
   "source": [
    "from azure.storage.blob import BlobServiceClient\n",
    "import zipfile\n",
    "import io\n"
   ]
  },
  {
   "cell_type": "code",
   "execution_count": 27,
   "metadata": {},
   "outputs": [],
   "source": [
    "def download_zip(container, zip_file_name) :\n",
    "    connect_str = \"DefaultEndpointsProtocol=https;AccountName=aman0ias;AccountKey=ejuMHDXoYsp4ktNpndJTqrC0QXgEi7DCv0cJiK94R6ZhMYZa+VmKnYcTNv3T6qIc/qoYnnZbGZPg+AStGotFJA==;EndpointSuffix=core.windows.net\"\n",
    "\n",
    "    container_name = container         #container name\n",
    "    blob_name = zip_file_name          #zip file name\n",
    "\n",
    "    blob_service_client = BlobServiceClient.from_connection_string(connect_str)\n",
    "\n",
    "    blob_client = blob_service_client.get_blob_client(container=container_name, blob=blob_name)\n",
    "\n",
    "    blob_data = io.BytesIO()\n",
    "    blob_client.download_blob().download_to_stream(blob_data)\n",
    "\n",
    "    with zipfile.ZipFile(blob_data) as zip_file:\n",
    "        for file_name in zip_file.namelist() :\n",
    "            zip_file.extract(file_name)"
   ]
  },
  {
   "cell_type": "code",
   "execution_count": 31,
   "metadata": {},
   "outputs": [],
   "source": [
    "download_zip(\"test\", \"app.zip\")"
   ]
  },
  {
   "cell_type": "code",
   "execution_count": 2,
   "metadata": {},
   "outputs": [
    {
     "ename": "AttributeError",
     "evalue": "module 'psutil' has no attribute 'sensors_temperatures'",
     "output_type": "error",
     "traceback": [
      "\u001b[1;31m---------------------------------------------------------------------------\u001b[0m",
      "\u001b[1;31mAttributeError\u001b[0m                            Traceback (most recent call last)",
      "Cell \u001b[1;32mIn[2], line 4\u001b[0m\n\u001b[0;32m      1\u001b[0m \u001b[39mimport\u001b[39;00m \u001b[39mpsutil\u001b[39;00m\n\u001b[0;32m      3\u001b[0m \u001b[39m# Get the CPU temperature as a tuple (current, high, critical)\u001b[39;00m\n\u001b[1;32m----> 4\u001b[0m temp \u001b[39m=\u001b[39m psutil\u001b[39m.\u001b[39;49msensors_temperatures()[\u001b[39m'\u001b[39m\u001b[39mcoretemp\u001b[39m\u001b[39m'\u001b[39m][\u001b[39m0\u001b[39m]\u001b[39m.\u001b[39mcurrent\n\u001b[0;32m      6\u001b[0m \u001b[39m# Print the current temperature\u001b[39;00m\n\u001b[0;32m      7\u001b[0m \u001b[39mprint\u001b[39m(\u001b[39mf\u001b[39m\u001b[39m\"\u001b[39m\u001b[39mCPU temperature: \u001b[39m\u001b[39m{\u001b[39;00mtemp\u001b[39m}\u001b[39;00m\u001b[39m°C\u001b[39m\u001b[39m\"\u001b[39m)\n",
      "\u001b[1;31mAttributeError\u001b[0m: module 'psutil' has no attribute 'sensors_temperatures'"
     ]
    }
   ],
   "source": [
    "import psutil\n",
    "\n",
    "# Get the CPU temperature as a tuple (current, high, critical)\n",
    "temp = psutil.sensors_temperatures()['coretemp'][0].current\n",
    "\n",
    "# Print the current temperature\n",
    "print(f\"CPU temperature: {temp}°C\")\n"
   ]
  },
  {
   "cell_type": "code",
   "execution_count": 8,
   "metadata": {},
   "outputs": [
    {
     "ename": "HttpResponseError",
     "evalue": "The specifed resource name contains invalid characters.\nRequestId:6ef68536-e01e-001f-33eb-54c6f7000000\nTime:2023-03-12T14:01:56.7597095Z\nErrorCode:InvalidResourceName\nContent: <?xml version=\"1.0\" encoding=\"utf-8\"?><Error><Code>InvalidResourceName</Code><Message>The specifed resource name contains invalid characters.\nRequestId:6ef68536-e01e-001f-33eb-54c6f7000000\nTime:2023-03-12T14:01:56.7597095Z</Message></Error>",
     "output_type": "error",
     "traceback": [
      "\u001b[1;31m---------------------------------------------------------------------------\u001b[0m",
      "\u001b[1;31mHttpResponseError\u001b[0m                         Traceback (most recent call last)",
      "Cell \u001b[1;32mIn[8], line 32\u001b[0m\n\u001b[0;32m     29\u001b[0m     \u001b[39mwith\u001b[39;00m \u001b[39mopen\u001b[39m(file_path, \u001b[39m\"\u001b[39m\u001b[39mrb\u001b[39m\u001b[39m\"\u001b[39m) \u001b[39mas\u001b[39;00m data:\n\u001b[0;32m     30\u001b[0m         blob_client\u001b[39m.\u001b[39mupload_blob(data)\n\u001b[1;32m---> 32\u001b[0m upload(\u001b[39m\"\u001b[39;49m\u001b[39mAshish\u001b[39;49m\u001b[39m\"\u001b[39;49m,\u001b[39m\"\u001b[39;49m\u001b[39m../Ashish/special\u001b[39;49m\u001b[39m\"\u001b[39;49m)\n",
      "Cell \u001b[1;32mIn[8], line 16\u001b[0m, in \u001b[0;36mupload\u001b[1;34m(user, app)\u001b[0m\n\u001b[0;32m     14\u001b[0m \u001b[39m# Create a ContainerClient object for the container\u001b[39;00m\n\u001b[0;32m     15\u001b[0m container_client \u001b[39m=\u001b[39m blob_service_client\u001b[39m.\u001b[39mget_container_client(container_name)\n\u001b[1;32m---> 16\u001b[0m \u001b[39mif\u001b[39;00m \u001b[39mnot\u001b[39;00m container_client\u001b[39m.\u001b[39;49mexists():\n\u001b[0;32m     17\u001b[0m     container_client \u001b[39m=\u001b[39m blob_service_client\u001b[39m.\u001b[39mcreate_container(user)\n\u001b[0;32m     19\u001b[0m \u001b[39m# Set the path of the file that you want to upload\u001b[39;00m\n",
      "File \u001b[1;32m~\\AppData\\Local\\Packages\\PythonSoftwareFoundation.Python.3.10_qbz5n2kfra8p0\\LocalCache\\local-packages\\Python310\\site-packages\\azure\\core\\tracing\\decorator.py:78\u001b[0m, in \u001b[0;36mdistributed_trace.<locals>.decorator.<locals>.wrapper_use_tracer\u001b[1;34m(*args, **kwargs)\u001b[0m\n\u001b[0;32m     76\u001b[0m span_impl_type \u001b[39m=\u001b[39m settings\u001b[39m.\u001b[39mtracing_implementation()\n\u001b[0;32m     77\u001b[0m \u001b[39mif\u001b[39;00m span_impl_type \u001b[39mis\u001b[39;00m \u001b[39mNone\u001b[39;00m:\n\u001b[1;32m---> 78\u001b[0m     \u001b[39mreturn\u001b[39;00m func(\u001b[39m*\u001b[39margs, \u001b[39m*\u001b[39m\u001b[39m*\u001b[39mkwargs)\n\u001b[0;32m     80\u001b[0m \u001b[39m# Merge span is parameter is set, but only if no explicit parent are passed\u001b[39;00m\n\u001b[0;32m     81\u001b[0m \u001b[39mif\u001b[39;00m merge_span \u001b[39mand\u001b[39;00m \u001b[39mnot\u001b[39;00m passed_in_parent:\n",
      "File \u001b[1;32m~\\AppData\\Local\\Packages\\PythonSoftwareFoundation.Python.3.10_qbz5n2kfra8p0\\LocalCache\\local-packages\\Python310\\site-packages\\azure\\storage\\blob\\_container_client.py:557\u001b[0m, in \u001b[0;36mContainerClient.exists\u001b[1;34m(self, **kwargs)\u001b[0m\n\u001b[0;32m    555\u001b[0m \u001b[39mexcept\u001b[39;00m HttpResponseError \u001b[39mas\u001b[39;00m error:\n\u001b[0;32m    556\u001b[0m     \u001b[39mtry\u001b[39;00m:\n\u001b[1;32m--> 557\u001b[0m         process_storage_error(error)\n\u001b[0;32m    558\u001b[0m     \u001b[39mexcept\u001b[39;00m ResourceNotFoundError:\n\u001b[0;32m    559\u001b[0m         \u001b[39mreturn\u001b[39;00m \u001b[39mFalse\u001b[39;00m\n",
      "File \u001b[1;32m~\\AppData\\Local\\Packages\\PythonSoftwareFoundation.Python.3.10_qbz5n2kfra8p0\\LocalCache\\local-packages\\Python310\\site-packages\\azure\\storage\\blob\\_shared\\response_handlers.py:189\u001b[0m, in \u001b[0;36mprocess_storage_error\u001b[1;34m(storage_error)\u001b[0m\n\u001b[0;32m    186\u001b[0m error\u001b[39m.\u001b[39margs \u001b[39m=\u001b[39m (error\u001b[39m.\u001b[39mmessage,)\n\u001b[0;32m    187\u001b[0m \u001b[39mtry\u001b[39;00m:\n\u001b[0;32m    188\u001b[0m     \u001b[39m# `from None` prevents us from double printing the exception (suppresses generated layer error context)\u001b[39;00m\n\u001b[1;32m--> 189\u001b[0m     exec(\u001b[39m\"\u001b[39;49m\u001b[39mraise error from None\u001b[39;49m\u001b[39m\"\u001b[39;49m)   \u001b[39m# pylint: disable=exec-used # nosec\u001b[39;00m\n\u001b[0;32m    190\u001b[0m \u001b[39mexcept\u001b[39;00m \u001b[39mSyntaxError\u001b[39;00m:\n\u001b[0;32m    191\u001b[0m     \u001b[39mraise\u001b[39;00m error\n",
      "File \u001b[1;32m<string>:1\u001b[0m\n",
      "\u001b[1;31mHttpResponseError\u001b[0m: The specifed resource name contains invalid characters.\nRequestId:6ef68536-e01e-001f-33eb-54c6f7000000\nTime:2023-03-12T14:01:56.7597095Z\nErrorCode:InvalidResourceName\nContent: <?xml version=\"1.0\" encoding=\"utf-8\"?><Error><Code>InvalidResourceName</Code><Message>The specifed resource name contains invalid characters.\nRequestId:6ef68536-e01e-001f-33eb-54c6f7000000\nTime:2023-03-12T14:01:56.7597095Z</Message></Error>"
     ]
    }
   ],
   "source": [
    "from azure.storage.blob import BlobServiceClient, BlobClient, ContainerClient\n",
    "import os\n",
    "\n",
    "def upload(user,app):\n",
    "    # Set the connection string for your Azure Storage account\n",
    "    connect_str = \"DefaultEndpointsProtocol=https;AccountName=aman0ias;AccountKey=ejuMHDXoYsp4ktNpndJTqrC0QXgEi7DCv0cJiK94R6ZhMYZa+VmKnYcTNv3T6qIc/qoYnnZbGZPg+AStGotFJA==;EndpointSuffix=core.windows.net\"\n",
    "\n",
    "    # Create a BlobServiceClient object to connect to the storage account\n",
    "    blob_service_client = BlobServiceClient.from_connection_string(connect_str)\n",
    "\n",
    "    # Set the name of the container that you want to upload the file to\n",
    "    container_name = user\n",
    "\n",
    "    # Create a ContainerClient object for the container\n",
    "    container_client = blob_service_client.get_container_client(container_name)\n",
    "    if not container_client.exists():\n",
    "        container_client = blob_service_client.create_container(user)\n",
    "\n",
    "    # Set the path of the file that you want to upload\n",
    "    file_path = app+\".zip\"\n",
    "\n",
    "    # Get the name of the file from the file path\n",
    "    file_name = os.path.basename(file_path)\n",
    "\n",
    "    # Create a BlobClient object for the file\n",
    "    blob_client = container_client.get_blob_client(blob=file_name)\n",
    "\n",
    "    # Upload the file to the container\n",
    "    with open(file_path, \"rb\") as data:\n",
    "        blob_client.upload_blob(data)\n",
    "\n",
    "upload(\"Ashish\".lower(),\"../Ashish/special\")"
   ]
  },
  {
   "cell_type": "code",
   "execution_count": 4,
   "metadata": {},
   "outputs": [
    {
     "name": "stdout",
     "output_type": "stream",
     "text": [
      "e65a2259ea5f1bf487cf637813e9b001afe9ff0ca94330d4328fffd2ecb24e99\n",
      "\n"
     ]
    }
   ],
   "source": [
    "import subprocess\n",
    "\n",
    "# execute the command and capture its output\n",
    "result = subprocess.run(\"docker run -d -v runtime_special:/home --name=special special\", stdout=subprocess.PIPE, shell=True)\n",
    "\n",
    "# decode the output and print it\n",
    "output = result.stdout.decode()\n",
    "print(output)\n"
   ]
  },
  {
   "cell_type": "code",
   "execution_count": 7,
   "metadata": {},
   "outputs": [
    {
     "ename": "AttributeError",
     "evalue": "'str' object has no attribute 'trim'",
     "output_type": "error",
     "traceback": [
      "\u001b[1;31m---------------------------------------------------------------------------\u001b[0m",
      "\u001b[1;31mAttributeError\u001b[0m                            Traceback (most recent call last)",
      "Cell \u001b[1;32mIn[7], line 3\u001b[0m\n\u001b[0;32m      1\u001b[0m dependency \u001b[39m=\u001b[39m []\n\u001b[0;32m      2\u001b[0m dependency_topics \u001b[39m=\u001b[39m (\u001b[39m'\u001b[39m\u001b[39m \u001b[39m\u001b[39m'\u001b[39m)\u001b[39m.\u001b[39mjoin(dependency)\n\u001b[1;32m----> 3\u001b[0m \u001b[39mprint\u001b[39m(\u001b[39m\"\u001b[39;49m\u001b[39mWFwff \u001b[39;49m\u001b[39m\"\u001b[39;49m\u001b[39m.\u001b[39;49mtrim())\n",
      "\u001b[1;31mAttributeError\u001b[0m: 'str' object has no attribute 'trim'"
     ]
    }
   ],
   "source": [
    "dependency = []\n",
    "dependency_topics = (' ').join(dependency)\n",
    "print(\"WFwff \".trim())"
   ]
  }
 ],
 "metadata": {
  "kernelspec": {
   "display_name": "env1",
   "language": "python",
   "name": "python3"
  },
  "language_info": {
   "codemirror_mode": {
    "name": "ipython",
    "version": 3
   },
   "file_extension": ".py",
   "mimetype": "text/x-python",
   "name": "python",
   "nbconvert_exporter": "python",
   "pygments_lexer": "ipython3",
   "version": "3.10.10"
  },
  "orig_nbformat": 4
 },
 "nbformat": 4,
 "nbformat_minor": 2
}
