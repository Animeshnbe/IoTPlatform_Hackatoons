{
 "cells": [
  {
   "cell_type": "code",
   "execution_count": 22,
   "metadata": {},
   "outputs": [],
   "source": [
    "from azure.storage.blob import BlobServiceClient\n",
    "import zipfile\n",
    "import io\n"
   ]
  },
  {
   "cell_type": "code",
   "execution_count": 27,
   "metadata": {},
   "outputs": [],
   "source": [
    "def download_zip(container, zip_file_name) :\n",
    "    connect_str = \"DefaultEndpointsProtocol=https;AccountName=aman0ias;AccountKey=ejuMHDXoYsp4ktNpndJTqrC0QXgEi7DCv0cJiK94R6ZhMYZa+VmKnYcTNv3T6qIc/qoYnnZbGZPg+AStGotFJA==;EndpointSuffix=core.windows.net\"\n",
    "\n",
    "    container_name = container         #container name\n",
    "    blob_name = zip_file_name          #zip file name\n",
    "\n",
    "    blob_service_client = BlobServiceClient.from_connection_string(connect_str)\n",
    "\n",
    "    blob_client = blob_service_client.get_blob_client(container=container_name, blob=blob_name)\n",
    "\n",
    "    blob_data = io.BytesIO()\n",
    "    blob_client.download_blob().download_to_stream(blob_data)\n",
    "\n",
    "    with zipfile.ZipFile(blob_data) as zip_file:\n",
    "        for file_name in zip_file.namelist() :\n",
    "            zip_file.extract(file_name)"
   ]
  },
  {
   "cell_type": "code",
   "execution_count": 31,
   "metadata": {},
   "outputs": [],
   "source": [
    "download_zip(\"test\", \"app.zip\")"
   ]
  },
  {
   "cell_type": "code",
   "execution_count": 2,
   "metadata": {},
   "outputs": [
    {
     "ename": "AttributeError",
     "evalue": "module 'psutil' has no attribute 'sensors_temperatures'",
     "output_type": "error",
     "traceback": [
      "\u001b[1;31m---------------------------------------------------------------------------\u001b[0m",
      "\u001b[1;31mAttributeError\u001b[0m                            Traceback (most recent call last)",
      "Cell \u001b[1;32mIn[2], line 4\u001b[0m\n\u001b[0;32m      1\u001b[0m \u001b[39mimport\u001b[39;00m \u001b[39mpsutil\u001b[39;00m\n\u001b[0;32m      3\u001b[0m \u001b[39m# Get the CPU temperature as a tuple (current, high, critical)\u001b[39;00m\n\u001b[1;32m----> 4\u001b[0m temp \u001b[39m=\u001b[39m psutil\u001b[39m.\u001b[39;49msensors_temperatures()[\u001b[39m'\u001b[39m\u001b[39mcoretemp\u001b[39m\u001b[39m'\u001b[39m][\u001b[39m0\u001b[39m]\u001b[39m.\u001b[39mcurrent\n\u001b[0;32m      6\u001b[0m \u001b[39m# Print the current temperature\u001b[39;00m\n\u001b[0;32m      7\u001b[0m \u001b[39mprint\u001b[39m(\u001b[39mf\u001b[39m\u001b[39m\"\u001b[39m\u001b[39mCPU temperature: \u001b[39m\u001b[39m{\u001b[39;00mtemp\u001b[39m}\u001b[39;00m\u001b[39m°C\u001b[39m\u001b[39m\"\u001b[39m)\n",
      "\u001b[1;31mAttributeError\u001b[0m: module 'psutil' has no attribute 'sensors_temperatures'"
     ]
    }
   ],
   "source": [
    "import psutil\n",
    "\n",
    "# Get the CPU temperature as a tuple (current, high, critical)\n",
    "temp = psutil.sensors_temperatures()['coretemp'][0].current\n",
    "\n",
    "# Print the current temperature\n",
    "print(f\"CPU temperature: {temp}°C\")\n"
   ]
  },
  {
   "cell_type": "code",
   "execution_count": 9,
   "metadata": {},
   "outputs": [],
   "source": [
    "from azure.storage.blob import BlobServiceClient, BlobClient, ContainerClient\n",
    "import os\n",
    "\n",
    "def upload(user,app):\n",
    "    # Set the connection string for your Azure Storage account\n",
    "    connect_str = \"DefaultEndpointsProtocol=https;AccountName=aman0ias;AccountKey=ejuMHDXoYsp4ktNpndJTqrC0QXgEi7DCv0cJiK94R6ZhMYZa+VmKnYcTNv3T6qIc/qoYnnZbGZPg+AStGotFJA==;EndpointSuffix=core.windows.net\"\n",
    "\n",
    "    # Create a BlobServiceClient object to connect to the storage account\n",
    "    blob_service_client = BlobServiceClient.from_connection_string(connect_str)\n",
    "\n",
    "    # Set the name of the container that you want to upload the file to\n",
    "    container_name = user\n",
    "\n",
    "    # Create a ContainerClient object for the container\n",
    "    container_client = blob_service_client.get_container_client(container_name)\n",
    "    if not container_client.exists():\n",
    "        container_client = blob_service_client.create_container(user)\n",
    "\n",
    "    # Set the path of the file that you want to upload\n",
    "    file_path = app+\".zip\"\n",
    "\n",
    "    # Get the name of the file from the file path\n",
    "    file_name = os.path.basename(file_path)\n",
    "\n",
    "    # Create a BlobClient object for the file\n",
    "    blob_client = container_client.get_blob_client(blob=file_name)\n",
    "\n",
    "    # Upload the file to the container\n",
    "    with open(file_path, \"rb\") as data:\n",
    "        blob_client.upload_blob(data)\n",
    "\n",
    "upload(\"Ashish\".lower(),\"../Ashish/special\")"
   ]
  },
  {
   "cell_type": "code",
   "execution_count": 4,
   "metadata": {},
   "outputs": [
    {
     "name": "stdout",
     "output_type": "stream",
     "text": [
      "e65a2259ea5f1bf487cf637813e9b001afe9ff0ca94330d4328fffd2ecb24e99\n",
      "\n"
     ]
    }
   ],
   "source": [
    "import subprocess\n",
    "\n",
    "# execute the command and capture its output\n",
    "result = subprocess.run(\"docker run -d -v runtime_special:/home --name=special special\", stdout=subprocess.PIPE, shell=True)\n",
    "\n",
    "# decode the output and print it\n",
    "output = result.stdout.decode()\n",
    "print(output)\n"
   ]
  },
  {
   "cell_type": "code",
   "execution_count": 10,
   "metadata": {},
   "outputs": [
    {
     "name": "stdout",
     "output_type": "stream",
     "text": [
      "WFwff\n"
     ]
    }
   ],
   "source": [
    "dependency = []\n",
    "dependency_topics = (' ').join(dependency)\n",
    "print(\"WFwff \".rstrip())"
   ]
  }
 ],
 "metadata": {
  "kernelspec": {
   "display_name": "env1",
   "language": "python",
   "name": "python3"
  },
  "language_info": {
   "codemirror_mode": {
    "name": "ipython",
    "version": 3
   },
   "file_extension": ".py",
   "mimetype": "text/x-python",
   "name": "python",
   "nbconvert_exporter": "python",
   "pygments_lexer": "ipython3",
   "version": "3.10.10"
  },
  "orig_nbformat": 4
 },
 "nbformat": 4,
 "nbformat_minor": 2
}
